{
 "cells": [
  {
   "cell_type": "markdown",
   "id": "72d1bca5-105a-443d-a029-9758d268264b",
   "metadata": {},
   "source": [
    "# Imports"
   ]
  },
  {
   "cell_type": "code",
   "execution_count": 1,
   "id": "45d589f4-41a4-4386-a098-a2a88f6eadc2",
   "metadata": {},
   "outputs": [],
   "source": [
    "import numpy as np\n",
    "from scipy.special import comb\n",
    "import pandas as pd\n",
    "import mpmath\n",
    "from tqdm.notebook import tqdm"
   ]
  },
  {
   "cell_type": "markdown",
   "id": "353adeea-898c-49e8-8ee3-f0bdbdfe6400",
   "metadata": {},
   "source": [
    "# Utils"
   ]
  },
  {
   "cell_type": "code",
   "execution_count": 2,
   "id": "8c3d0b45-b68f-4df1-8b36-8772c9ca544f",
   "metadata": {},
   "outputs": [],
   "source": [
    "def combinations(n, r):\n",
    "    return mpmath.fdiv(mpmath.factorial(n), mpmath.fmul(mpmath.factorial(r), mpmath.factorial(n-r)))"
   ]
  },
  {
   "cell_type": "code",
   "execution_count": 3,
   "id": "592249ab-0200-45ae-b012-546dc51f9746",
   "metadata": {},
   "outputs": [],
   "source": [
    "def get_max_k_high_precission(n, p, conf, MAX_SEARCH_SPACE = 1000):\n",
    "    \n",
    "    probs = []\n",
    "    max_k = None\n",
    "    \n",
    "    for i in range(int(n)):\n",
    "        prob = mpmath.fmul(combinations(n, i), mpmath.fmul(mpmath.power(p, i), mpmath.power(1-p, n-i)))\n",
    "        probs.append(prob)\n",
    "        final_prob = mpmath.fsum(probs)\n",
    "        \n",
    "        if final_prob < conf: # k is still small enough to satisfy condition\n",
    "            max_k = i\n",
    "        else:\n",
    "            break\n",
    "    \n",
    "    return max_k"
   ]
  },
  {
   "cell_type": "code",
   "execution_count": null,
   "id": "86f651de-e5e8-433a-8aea-053cd1f9b9fd",
   "metadata": {},
   "outputs": [],
   "source": []
  },
  {
   "cell_type": "markdown",
   "id": "5678920b-6adb-475b-8a37-6892b41c7148",
   "metadata": {},
   "source": [
    "# Presets"
   ]
  },
  {
   "cell_type": "code",
   "execution_count": 4,
   "id": "98ca98e3-51a2-44c3-858d-f4ff6bbdb801",
   "metadata": {},
   "outputs": [],
   "source": [
    "hour_range = [0.5, 0.75, 1, 1.5, 2, 4, 8, 16, 32]\n",
    "minutes_range = [30, 45, 60, 90, 120, 240, 480, 960, 1920]\n",
    "\n",
    "n_slots_range = [m * 60 / 12 for m in minutes_range]\n",
    "p_non_censoring_probability = np.arange(0.1, 1, 0.1)\n",
    "confidence = [1e-03, 1e-06, 1e-09, 1e-12, 1e-24]"
   ]
  },
  {
   "cell_type": "code",
   "execution_count": 19,
   "id": "aaa48c36-d1fa-439a-a3f5-cf1db0010b00",
   "metadata": {},
   "outputs": [
    {
     "data": {
      "text/plain": [
       "[150.0, 225.0, 300.0, 450.0, 600.0, 1200.0, 2400.0, 4800.0, 9600.0]"
      ]
     },
     "execution_count": 19,
     "metadata": {},
     "output_type": "execute_result"
    }
   ],
   "source": [
    "n_slots_range"
   ]
  },
  {
   "cell_type": "code",
   "execution_count": 20,
   "id": "6eff142f-a135-471b-ac77-0cb404ab990e",
   "metadata": {},
   "outputs": [
    {
     "data": {
      "text/plain": [
       "array([0.1, 0.2, 0.3, 0.4, 0.5, 0.6, 0.7, 0.8, 0.9])"
      ]
     },
     "execution_count": 20,
     "metadata": {},
     "output_type": "execute_result"
    }
   ],
   "source": [
    "p_non_censoring_probability"
   ]
  },
  {
   "cell_type": "code",
   "execution_count": 21,
   "id": "7de0a141-ed8c-44b6-b6db-40f53ebe4bf5",
   "metadata": {},
   "outputs": [
    {
     "data": {
      "text/plain": [
       "[0.001, 1e-06, 1e-09, 1e-12, 1e-24]"
      ]
     },
     "execution_count": 21,
     "metadata": {},
     "output_type": "execute_result"
    }
   ],
   "source": [
    "confidence"
   ]
  },
  {
   "cell_type": "code",
   "execution_count": null,
   "id": "1b04a334-fcf9-4d2a-88cb-bb551ee53fd7",
   "metadata": {},
   "outputs": [],
   "source": []
  },
  {
   "cell_type": "code",
   "execution_count": null,
   "id": "a4e79a3f-dfef-4f97-a3c0-bfcd7c814abe",
   "metadata": {},
   "outputs": [],
   "source": []
  },
  {
   "cell_type": "code",
   "execution_count": 36,
   "id": "ff9e710a-1b3a-4117-b34f-b35df2c4e9e7",
   "metadata": {
    "tags": []
   },
   "outputs": [
    {
     "name": "stdout",
     "output_type": "stream",
     "text": [
      "calculate for 0.5 hours...\n"
     ]
    },
    {
     "data": {
      "application/vnd.jupyter.widget-view+json": {
       "model_id": "b012c8ee14994a3eb796a56e260b580e",
       "version_major": 2,
       "version_minor": 0
      },
      "text/plain": [
       "  0%|          | 0/9 [00:00<?, ?it/s]"
      ]
     },
     "metadata": {},
     "output_type": "display_data"
    },
    {
     "name": "stdout",
     "output_type": "stream",
     "text": [
      "calculate for 0.75 hours...\n"
     ]
    },
    {
     "data": {
      "application/vnd.jupyter.widget-view+json": {
       "model_id": "98d52a1d16ad464fb74e7ee32165b5a3",
       "version_major": 2,
       "version_minor": 0
      },
      "text/plain": [
       "  0%|          | 0/9 [00:00<?, ?it/s]"
      ]
     },
     "metadata": {},
     "output_type": "display_data"
    },
    {
     "name": "stdout",
     "output_type": "stream",
     "text": [
      "calculate for 1 hours...\n"
     ]
    },
    {
     "data": {
      "application/vnd.jupyter.widget-view+json": {
       "model_id": "d8516575941b4fcd87ac7f1ba0333da0",
       "version_major": 2,
       "version_minor": 0
      },
      "text/plain": [
       "  0%|          | 0/9 [00:00<?, ?it/s]"
      ]
     },
     "metadata": {},
     "output_type": "display_data"
    },
    {
     "name": "stdout",
     "output_type": "stream",
     "text": [
      "calculate for 1.5 hours...\n"
     ]
    },
    {
     "data": {
      "application/vnd.jupyter.widget-view+json": {
       "model_id": "72e31b0e2292464ab2b8344428789fb5",
       "version_major": 2,
       "version_minor": 0
      },
      "text/plain": [
       "  0%|          | 0/9 [00:00<?, ?it/s]"
      ]
     },
     "metadata": {},
     "output_type": "display_data"
    },
    {
     "name": "stdout",
     "output_type": "stream",
     "text": [
      "calculate for 2 hours...\n"
     ]
    },
    {
     "data": {
      "application/vnd.jupyter.widget-view+json": {
       "model_id": "b0919948d8ca4f00baa413000c7022d7",
       "version_major": 2,
       "version_minor": 0
      },
      "text/plain": [
       "  0%|          | 0/9 [00:00<?, ?it/s]"
      ]
     },
     "metadata": {},
     "output_type": "display_data"
    },
    {
     "name": "stdout",
     "output_type": "stream",
     "text": [
      "calculate for 4 hours...\n"
     ]
    },
    {
     "data": {
      "application/vnd.jupyter.widget-view+json": {
       "model_id": "ec7a3efda0784528ae1cbcf1ac581de1",
       "version_major": 2,
       "version_minor": 0
      },
      "text/plain": [
       "  0%|          | 0/9 [00:00<?, ?it/s]"
      ]
     },
     "metadata": {},
     "output_type": "display_data"
    },
    {
     "name": "stdout",
     "output_type": "stream",
     "text": [
      "calculate for 8 hours...\n"
     ]
    },
    {
     "data": {
      "application/vnd.jupyter.widget-view+json": {
       "model_id": "78bb40d5b4d54d10a600e73c54e90efa",
       "version_major": 2,
       "version_minor": 0
      },
      "text/plain": [
       "  0%|          | 0/9 [00:00<?, ?it/s]"
      ]
     },
     "metadata": {},
     "output_type": "display_data"
    },
    {
     "name": "stdout",
     "output_type": "stream",
     "text": [
      "calculate for 16 hours...\n"
     ]
    },
    {
     "data": {
      "application/vnd.jupyter.widget-view+json": {
       "model_id": "85fe1abaee7e4b19a1759a00c4c3acbb",
       "version_major": 2,
       "version_minor": 0
      },
      "text/plain": [
       "  0%|          | 0/9 [00:00<?, ?it/s]"
      ]
     },
     "metadata": {},
     "output_type": "display_data"
    },
    {
     "name": "stdout",
     "output_type": "stream",
     "text": [
      "calculate for 32 hours...\n"
     ]
    },
    {
     "data": {
      "application/vnd.jupyter.widget-view+json": {
       "model_id": "539da18fe0af442ba08e1f01e7cf4bda",
       "version_major": 2,
       "version_minor": 0
      },
      "text/plain": [
       "  0%|          | 0/9 [00:00<?, ?it/s]"
      ]
     },
     "metadata": {},
     "output_type": "display_data"
    },
    {
     "data": {
      "text/html": [
       "<div>\n",
       "<style scoped>\n",
       "    .dataframe tbody tr th:only-of-type {\n",
       "        vertical-align: middle;\n",
       "    }\n",
       "\n",
       "    .dataframe tbody tr th {\n",
       "        vertical-align: top;\n",
       "    }\n",
       "\n",
       "    .dataframe thead th {\n",
       "        text-align: right;\n",
       "    }\n",
       "</style>\n",
       "<table border=\"1\" class=\"dataframe\">\n",
       "  <thead>\n",
       "    <tr style=\"text-align: right;\">\n",
       "      <th></th>\n",
       "      <th>hours</th>\n",
       "      <th>n</th>\n",
       "      <th>p</th>\n",
       "      <th>conf</th>\n",
       "      <th>max_k</th>\n",
       "    </tr>\n",
       "  </thead>\n",
       "  <tbody>\n",
       "    <tr>\n",
       "      <th>0</th>\n",
       "      <td>0.5</td>\n",
       "      <td>150.0</td>\n",
       "      <td>0.1</td>\n",
       "      <td>1.000000e-03</td>\n",
       "      <td>4.0</td>\n",
       "    </tr>\n",
       "    <tr>\n",
       "      <th>1</th>\n",
       "      <td>0.5</td>\n",
       "      <td>150.0</td>\n",
       "      <td>0.1</td>\n",
       "      <td>1.000000e-06</td>\n",
       "      <td>0.0</td>\n",
       "    </tr>\n",
       "    <tr>\n",
       "      <th>2</th>\n",
       "      <td>0.5</td>\n",
       "      <td>150.0</td>\n",
       "      <td>0.1</td>\n",
       "      <td>1.000000e-09</td>\n",
       "      <td>NaN</td>\n",
       "    </tr>\n",
       "    <tr>\n",
       "      <th>3</th>\n",
       "      <td>0.5</td>\n",
       "      <td>150.0</td>\n",
       "      <td>0.1</td>\n",
       "      <td>1.000000e-12</td>\n",
       "      <td>NaN</td>\n",
       "    </tr>\n",
       "    <tr>\n",
       "      <th>4</th>\n",
       "      <td>0.5</td>\n",
       "      <td>150.0</td>\n",
       "      <td>0.1</td>\n",
       "      <td>1.000000e-24</td>\n",
       "      <td>NaN</td>\n",
       "    </tr>\n",
       "    <tr>\n",
       "      <th>...</th>\n",
       "      <td>...</td>\n",
       "      <td>...</td>\n",
       "      <td>...</td>\n",
       "      <td>...</td>\n",
       "      <td>...</td>\n",
       "    </tr>\n",
       "    <tr>\n",
       "      <th>400</th>\n",
       "      <td>32.0</td>\n",
       "      <td>9600.0</td>\n",
       "      <td>0.9</td>\n",
       "      <td>1.000000e-03</td>\n",
       "      <td>8547.0</td>\n",
       "    </tr>\n",
       "    <tr>\n",
       "      <th>401</th>\n",
       "      <td>32.0</td>\n",
       "      <td>9600.0</td>\n",
       "      <td>0.9</td>\n",
       "      <td>1.000000e-06</td>\n",
       "      <td>8496.0</td>\n",
       "    </tr>\n",
       "    <tr>\n",
       "      <th>402</th>\n",
       "      <td>32.0</td>\n",
       "      <td>9600.0</td>\n",
       "      <td>0.9</td>\n",
       "      <td>1.000000e-09</td>\n",
       "      <td>8458.0</td>\n",
       "    </tr>\n",
       "    <tr>\n",
       "      <th>403</th>\n",
       "      <td>32.0</td>\n",
       "      <td>9600.0</td>\n",
       "      <td>0.9</td>\n",
       "      <td>1.000000e-12</td>\n",
       "      <td>8426.0</td>\n",
       "    </tr>\n",
       "    <tr>\n",
       "      <th>404</th>\n",
       "      <td>32.0</td>\n",
       "      <td>9600.0</td>\n",
       "      <td>0.9</td>\n",
       "      <td>1.000000e-24</td>\n",
       "      <td>8326.0</td>\n",
       "    </tr>\n",
       "  </tbody>\n",
       "</table>\n",
       "<p>405 rows × 5 columns</p>\n",
       "</div>"
      ],
      "text/plain": [
       "     hours       n    p          conf   max_k\n",
       "0      0.5   150.0  0.1  1.000000e-03     4.0\n",
       "1      0.5   150.0  0.1  1.000000e-06     0.0\n",
       "2      0.5   150.0  0.1  1.000000e-09     NaN\n",
       "3      0.5   150.0  0.1  1.000000e-12     NaN\n",
       "4      0.5   150.0  0.1  1.000000e-24     NaN\n",
       "..     ...     ...  ...           ...     ...\n",
       "400   32.0  9600.0  0.9  1.000000e-03  8547.0\n",
       "401   32.0  9600.0  0.9  1.000000e-06  8496.0\n",
       "402   32.0  9600.0  0.9  1.000000e-09  8458.0\n",
       "403   32.0  9600.0  0.9  1.000000e-12  8426.0\n",
       "404   32.0  9600.0  0.9  1.000000e-24  8326.0\n",
       "\n",
       "[405 rows x 5 columns]"
      ]
     },
     "execution_count": 36,
     "metadata": {},
     "output_type": "execute_result"
    }
   ],
   "source": [
    "results = []\n",
    "\n",
    "for i, n in enumerate(n_slots_range):\n",
    "    print(f'calculate for {hour_range[i]} hours...')\n",
    "    for p in tqdm(p_non_censoring_probability):\n",
    "        for conf in confidence:\n",
    "            max_k = get_max_k_high_precission(n, p, conf)\n",
    "            results.append((hour_range[i], n, p, conf, max_k))\n",
    "            \n",
    "results_df = pd.DataFrame(results, columns = ['hours', 'n', 'p', 'conf', 'max_k'])\n",
    "results_df"
   ]
  },
  {
   "cell_type": "code",
   "execution_count": 41,
   "id": "93412b51-ccf0-48af-8e69-a201e15e6927",
   "metadata": {
    "collapsed": true,
    "jupyter": {
     "outputs_hidden": true
    },
    "tags": []
   },
   "outputs": [
    {
     "data": {
      "text/html": [
       "<div>\n",
       "<style scoped>\n",
       "    .dataframe tbody tr th:only-of-type {\n",
       "        vertical-align: middle;\n",
       "    }\n",
       "\n",
       "    .dataframe tbody tr th {\n",
       "        vertical-align: top;\n",
       "    }\n",
       "\n",
       "    .dataframe thead th {\n",
       "        text-align: right;\n",
       "    }\n",
       "</style>\n",
       "<table border=\"1\" class=\"dataframe\">\n",
       "  <thead>\n",
       "    <tr style=\"text-align: right;\">\n",
       "      <th></th>\n",
       "      <th>hours</th>\n",
       "      <th>n</th>\n",
       "      <th>p</th>\n",
       "      <th>conf</th>\n",
       "      <th>max_k</th>\n",
       "    </tr>\n",
       "  </thead>\n",
       "  <tbody>\n",
       "    <tr>\n",
       "      <th>180</th>\n",
       "      <td>2.0</td>\n",
       "      <td>600.0</td>\n",
       "      <td>0.1</td>\n",
       "      <td>1.000000e-03</td>\n",
       "      <td>38.0</td>\n",
       "    </tr>\n",
       "    <tr>\n",
       "      <th>181</th>\n",
       "      <td>2.0</td>\n",
       "      <td>600.0</td>\n",
       "      <td>0.1</td>\n",
       "      <td>1.000000e-06</td>\n",
       "      <td>27.0</td>\n",
       "    </tr>\n",
       "    <tr>\n",
       "      <th>182</th>\n",
       "      <td>2.0</td>\n",
       "      <td>600.0</td>\n",
       "      <td>0.1</td>\n",
       "      <td>1.000000e-09</td>\n",
       "      <td>20.0</td>\n",
       "    </tr>\n",
       "    <tr>\n",
       "      <th>183</th>\n",
       "      <td>2.0</td>\n",
       "      <td>600.0</td>\n",
       "      <td>0.1</td>\n",
       "      <td>1.000000e-12</td>\n",
       "      <td>15.0</td>\n",
       "    </tr>\n",
       "    <tr>\n",
       "      <th>184</th>\n",
       "      <td>2.0</td>\n",
       "      <td>600.0</td>\n",
       "      <td>0.1</td>\n",
       "      <td>1.000000e-24</td>\n",
       "      <td>2.0</td>\n",
       "    </tr>\n",
       "    <tr>\n",
       "      <th>185</th>\n",
       "      <td>2.0</td>\n",
       "      <td>600.0</td>\n",
       "      <td>0.2</td>\n",
       "      <td>1.000000e-03</td>\n",
       "      <td>90.0</td>\n",
       "    </tr>\n",
       "    <tr>\n",
       "      <th>186</th>\n",
       "      <td>2.0</td>\n",
       "      <td>600.0</td>\n",
       "      <td>0.2</td>\n",
       "      <td>1.000000e-06</td>\n",
       "      <td>75.0</td>\n",
       "    </tr>\n",
       "    <tr>\n",
       "      <th>187</th>\n",
       "      <td>2.0</td>\n",
       "      <td>600.0</td>\n",
       "      <td>0.2</td>\n",
       "      <td>1.000000e-09</td>\n",
       "      <td>64.0</td>\n",
       "    </tr>\n",
       "    <tr>\n",
       "      <th>188</th>\n",
       "      <td>2.0</td>\n",
       "      <td>600.0</td>\n",
       "      <td>0.2</td>\n",
       "      <td>1.000000e-12</td>\n",
       "      <td>56.0</td>\n",
       "    </tr>\n",
       "    <tr>\n",
       "      <th>189</th>\n",
       "      <td>2.0</td>\n",
       "      <td>600.0</td>\n",
       "      <td>0.2</td>\n",
       "      <td>1.000000e-24</td>\n",
       "      <td>32.0</td>\n",
       "    </tr>\n",
       "    <tr>\n",
       "      <th>190</th>\n",
       "      <td>2.0</td>\n",
       "      <td>600.0</td>\n",
       "      <td>0.3</td>\n",
       "      <td>1.000000e-03</td>\n",
       "      <td>145.0</td>\n",
       "    </tr>\n",
       "    <tr>\n",
       "      <th>191</th>\n",
       "      <td>2.0</td>\n",
       "      <td>600.0</td>\n",
       "      <td>0.3</td>\n",
       "      <td>1.000000e-06</td>\n",
       "      <td>127.0</td>\n",
       "    </tr>\n",
       "    <tr>\n",
       "      <th>192</th>\n",
       "      <td>2.0</td>\n",
       "      <td>600.0</td>\n",
       "      <td>0.3</td>\n",
       "      <td>1.000000e-09</td>\n",
       "      <td>114.0</td>\n",
       "    </tr>\n",
       "    <tr>\n",
       "      <th>193</th>\n",
       "      <td>2.0</td>\n",
       "      <td>600.0</td>\n",
       "      <td>0.3</td>\n",
       "      <td>1.000000e-12</td>\n",
       "      <td>104.0</td>\n",
       "    </tr>\n",
       "    <tr>\n",
       "      <th>194</th>\n",
       "      <td>2.0</td>\n",
       "      <td>600.0</td>\n",
       "      <td>0.3</td>\n",
       "      <td>1.000000e-24</td>\n",
       "      <td>73.0</td>\n",
       "    </tr>\n",
       "    <tr>\n",
       "      <th>195</th>\n",
       "      <td>2.0</td>\n",
       "      <td>600.0</td>\n",
       "      <td>0.4</td>\n",
       "      <td>1.000000e-03</td>\n",
       "      <td>202.0</td>\n",
       "    </tr>\n",
       "    <tr>\n",
       "      <th>196</th>\n",
       "      <td>2.0</td>\n",
       "      <td>600.0</td>\n",
       "      <td>0.4</td>\n",
       "      <td>1.000000e-06</td>\n",
       "      <td>183.0</td>\n",
       "    </tr>\n",
       "    <tr>\n",
       "      <th>197</th>\n",
       "      <td>2.0</td>\n",
       "      <td>600.0</td>\n",
       "      <td>0.4</td>\n",
       "      <td>1.000000e-09</td>\n",
       "      <td>169.0</td>\n",
       "    </tr>\n",
       "    <tr>\n",
       "      <th>198</th>\n",
       "      <td>2.0</td>\n",
       "      <td>600.0</td>\n",
       "      <td>0.4</td>\n",
       "      <td>1.000000e-12</td>\n",
       "      <td>157.0</td>\n",
       "    </tr>\n",
       "    <tr>\n",
       "      <th>199</th>\n",
       "      <td>2.0</td>\n",
       "      <td>600.0</td>\n",
       "      <td>0.4</td>\n",
       "      <td>1.000000e-24</td>\n",
       "      <td>122.0</td>\n",
       "    </tr>\n",
       "    <tr>\n",
       "      <th>200</th>\n",
       "      <td>2.0</td>\n",
       "      <td>600.0</td>\n",
       "      <td>0.5</td>\n",
       "      <td>1.000000e-03</td>\n",
       "      <td>261.0</td>\n",
       "    </tr>\n",
       "    <tr>\n",
       "      <th>201</th>\n",
       "      <td>2.0</td>\n",
       "      <td>600.0</td>\n",
       "      <td>0.5</td>\n",
       "      <td>1.000000e-06</td>\n",
       "      <td>241.0</td>\n",
       "    </tr>\n",
       "    <tr>\n",
       "      <th>202</th>\n",
       "      <td>2.0</td>\n",
       "      <td>600.0</td>\n",
       "      <td>0.5</td>\n",
       "      <td>1.000000e-09</td>\n",
       "      <td>226.0</td>\n",
       "    </tr>\n",
       "    <tr>\n",
       "      <th>203</th>\n",
       "      <td>2.0</td>\n",
       "      <td>600.0</td>\n",
       "      <td>0.5</td>\n",
       "      <td>1.000000e-12</td>\n",
       "      <td>213.0</td>\n",
       "    </tr>\n",
       "    <tr>\n",
       "      <th>204</th>\n",
       "      <td>2.0</td>\n",
       "      <td>600.0</td>\n",
       "      <td>0.5</td>\n",
       "      <td>1.000000e-24</td>\n",
       "      <td>176.0</td>\n",
       "    </tr>\n",
       "    <tr>\n",
       "      <th>205</th>\n",
       "      <td>2.0</td>\n",
       "      <td>600.0</td>\n",
       "      <td>0.6</td>\n",
       "      <td>1.000000e-03</td>\n",
       "      <td>322.0</td>\n",
       "    </tr>\n",
       "    <tr>\n",
       "      <th>206</th>\n",
       "      <td>2.0</td>\n",
       "      <td>600.0</td>\n",
       "      <td>0.6</td>\n",
       "      <td>1.000000e-06</td>\n",
       "      <td>301.0</td>\n",
       "    </tr>\n",
       "    <tr>\n",
       "      <th>207</th>\n",
       "      <td>2.0</td>\n",
       "      <td>600.0</td>\n",
       "      <td>0.6</td>\n",
       "      <td>1.000000e-09</td>\n",
       "      <td>286.0</td>\n",
       "    </tr>\n",
       "    <tr>\n",
       "      <th>208</th>\n",
       "      <td>2.0</td>\n",
       "      <td>600.0</td>\n",
       "      <td>0.6</td>\n",
       "      <td>1.000000e-12</td>\n",
       "      <td>274.0</td>\n",
       "    </tr>\n",
       "    <tr>\n",
       "      <th>209</th>\n",
       "      <td>2.0</td>\n",
       "      <td>600.0</td>\n",
       "      <td>0.6</td>\n",
       "      <td>1.000000e-24</td>\n",
       "      <td>235.0</td>\n",
       "    </tr>\n",
       "    <tr>\n",
       "      <th>210</th>\n",
       "      <td>2.0</td>\n",
       "      <td>600.0</td>\n",
       "      <td>0.7</td>\n",
       "      <td>1.000000e-03</td>\n",
       "      <td>384.0</td>\n",
       "    </tr>\n",
       "    <tr>\n",
       "      <th>211</th>\n",
       "      <td>2.0</td>\n",
       "      <td>600.0</td>\n",
       "      <td>0.7</td>\n",
       "      <td>1.000000e-06</td>\n",
       "      <td>364.0</td>\n",
       "    </tr>\n",
       "    <tr>\n",
       "      <th>212</th>\n",
       "      <td>2.0</td>\n",
       "      <td>600.0</td>\n",
       "      <td>0.7</td>\n",
       "      <td>1.000000e-09</td>\n",
       "      <td>350.0</td>\n",
       "    </tr>\n",
       "    <tr>\n",
       "      <th>213</th>\n",
       "      <td>2.0</td>\n",
       "      <td>600.0</td>\n",
       "      <td>0.7</td>\n",
       "      <td>1.000000e-12</td>\n",
       "      <td>337.0</td>\n",
       "    </tr>\n",
       "    <tr>\n",
       "      <th>214</th>\n",
       "      <td>2.0</td>\n",
       "      <td>600.0</td>\n",
       "      <td>0.7</td>\n",
       "      <td>1.000000e-24</td>\n",
       "      <td>299.0</td>\n",
       "    </tr>\n",
       "    <tr>\n",
       "      <th>215</th>\n",
       "      <td>2.0</td>\n",
       "      <td>600.0</td>\n",
       "      <td>0.8</td>\n",
       "      <td>1.000000e-03</td>\n",
       "      <td>448.0</td>\n",
       "    </tr>\n",
       "    <tr>\n",
       "      <th>216</th>\n",
       "      <td>2.0</td>\n",
       "      <td>600.0</td>\n",
       "      <td>0.8</td>\n",
       "      <td>1.000000e-06</td>\n",
       "      <td>430.0</td>\n",
       "    </tr>\n",
       "    <tr>\n",
       "      <th>217</th>\n",
       "      <td>2.0</td>\n",
       "      <td>600.0</td>\n",
       "      <td>0.8</td>\n",
       "      <td>1.000000e-09</td>\n",
       "      <td>417.0</td>\n",
       "    </tr>\n",
       "    <tr>\n",
       "      <th>218</th>\n",
       "      <td>2.0</td>\n",
       "      <td>600.0</td>\n",
       "      <td>0.8</td>\n",
       "      <td>1.000000e-12</td>\n",
       "      <td>406.0</td>\n",
       "    </tr>\n",
       "    <tr>\n",
       "      <th>219</th>\n",
       "      <td>2.0</td>\n",
       "      <td>600.0</td>\n",
       "      <td>0.8</td>\n",
       "      <td>1.000000e-24</td>\n",
       "      <td>371.0</td>\n",
       "    </tr>\n",
       "    <tr>\n",
       "      <th>220</th>\n",
       "      <td>2.0</td>\n",
       "      <td>600.0</td>\n",
       "      <td>0.9</td>\n",
       "      <td>1.000000e-03</td>\n",
       "      <td>515.0</td>\n",
       "    </tr>\n",
       "    <tr>\n",
       "      <th>221</th>\n",
       "      <td>2.0</td>\n",
       "      <td>600.0</td>\n",
       "      <td>0.9</td>\n",
       "      <td>1.000000e-06</td>\n",
       "      <td>501.0</td>\n",
       "    </tr>\n",
       "    <tr>\n",
       "      <th>222</th>\n",
       "      <td>2.0</td>\n",
       "      <td>600.0</td>\n",
       "      <td>0.9</td>\n",
       "      <td>1.000000e-09</td>\n",
       "      <td>491.0</td>\n",
       "    </tr>\n",
       "    <tr>\n",
       "      <th>223</th>\n",
       "      <td>2.0</td>\n",
       "      <td>600.0</td>\n",
       "      <td>0.9</td>\n",
       "      <td>1.000000e-12</td>\n",
       "      <td>482.0</td>\n",
       "    </tr>\n",
       "    <tr>\n",
       "      <th>224</th>\n",
       "      <td>2.0</td>\n",
       "      <td>600.0</td>\n",
       "      <td>0.9</td>\n",
       "      <td>1.000000e-24</td>\n",
       "      <td>452.0</td>\n",
       "    </tr>\n",
       "  </tbody>\n",
       "</table>\n",
       "</div>"
      ],
      "text/plain": [
       "     hours      n    p          conf  max_k\n",
       "180    2.0  600.0  0.1  1.000000e-03   38.0\n",
       "181    2.0  600.0  0.1  1.000000e-06   27.0\n",
       "182    2.0  600.0  0.1  1.000000e-09   20.0\n",
       "183    2.0  600.0  0.1  1.000000e-12   15.0\n",
       "184    2.0  600.0  0.1  1.000000e-24    2.0\n",
       "185    2.0  600.0  0.2  1.000000e-03   90.0\n",
       "186    2.0  600.0  0.2  1.000000e-06   75.0\n",
       "187    2.0  600.0  0.2  1.000000e-09   64.0\n",
       "188    2.0  600.0  0.2  1.000000e-12   56.0\n",
       "189    2.0  600.0  0.2  1.000000e-24   32.0\n",
       "190    2.0  600.0  0.3  1.000000e-03  145.0\n",
       "191    2.0  600.0  0.3  1.000000e-06  127.0\n",
       "192    2.0  600.0  0.3  1.000000e-09  114.0\n",
       "193    2.0  600.0  0.3  1.000000e-12  104.0\n",
       "194    2.0  600.0  0.3  1.000000e-24   73.0\n",
       "195    2.0  600.0  0.4  1.000000e-03  202.0\n",
       "196    2.0  600.0  0.4  1.000000e-06  183.0\n",
       "197    2.0  600.0  0.4  1.000000e-09  169.0\n",
       "198    2.0  600.0  0.4  1.000000e-12  157.0\n",
       "199    2.0  600.0  0.4  1.000000e-24  122.0\n",
       "200    2.0  600.0  0.5  1.000000e-03  261.0\n",
       "201    2.0  600.0  0.5  1.000000e-06  241.0\n",
       "202    2.0  600.0  0.5  1.000000e-09  226.0\n",
       "203    2.0  600.0  0.5  1.000000e-12  213.0\n",
       "204    2.0  600.0  0.5  1.000000e-24  176.0\n",
       "205    2.0  600.0  0.6  1.000000e-03  322.0\n",
       "206    2.0  600.0  0.6  1.000000e-06  301.0\n",
       "207    2.0  600.0  0.6  1.000000e-09  286.0\n",
       "208    2.0  600.0  0.6  1.000000e-12  274.0\n",
       "209    2.0  600.0  0.6  1.000000e-24  235.0\n",
       "210    2.0  600.0  0.7  1.000000e-03  384.0\n",
       "211    2.0  600.0  0.7  1.000000e-06  364.0\n",
       "212    2.0  600.0  0.7  1.000000e-09  350.0\n",
       "213    2.0  600.0  0.7  1.000000e-12  337.0\n",
       "214    2.0  600.0  0.7  1.000000e-24  299.0\n",
       "215    2.0  600.0  0.8  1.000000e-03  448.0\n",
       "216    2.0  600.0  0.8  1.000000e-06  430.0\n",
       "217    2.0  600.0  0.8  1.000000e-09  417.0\n",
       "218    2.0  600.0  0.8  1.000000e-12  406.0\n",
       "219    2.0  600.0  0.8  1.000000e-24  371.0\n",
       "220    2.0  600.0  0.9  1.000000e-03  515.0\n",
       "221    2.0  600.0  0.9  1.000000e-06  501.0\n",
       "222    2.0  600.0  0.9  1.000000e-09  491.0\n",
       "223    2.0  600.0  0.9  1.000000e-12  482.0\n",
       "224    2.0  600.0  0.9  1.000000e-24  452.0"
      ]
     },
     "execution_count": 41,
     "metadata": {},
     "output_type": "execute_result"
    }
   ],
   "source": [
    "results_df[results_df.hours == 2]"
   ]
  },
  {
   "cell_type": "code",
   "execution_count": null,
   "id": "8324813b-1cd8-42d4-a4e7-7fe95d1fa6e8",
   "metadata": {},
   "outputs": [],
   "source": []
  },
  {
   "cell_type": "markdown",
   "id": "8a778fc8-75cb-4ef7-90b7-a2e4f6e955a1",
   "metadata": {},
   "source": [
    "# Presets 2"
   ]
  },
  {
   "cell_type": "code",
   "execution_count": 6,
   "id": "60b95b39-c839-4ea5-a347-11a0121827f9",
   "metadata": {},
   "outputs": [],
   "source": [
    "hour_range = [1, 2, 4, 6, 12, 24, 48, 120, 168]\n",
    "\n",
    "n_slots_range = [h * 60 * 60 / 12 for h in hour_range]\n",
    "p_non_censoring_probability = [0.1, 0.01, 0.001, 0.0001]\n",
    "confidence = [1e-03, 1e-06, 1e-09]"
   ]
  },
  {
   "cell_type": "code",
   "execution_count": 7,
   "id": "ce3c2724-c3fe-446f-b102-3489cca0fbca",
   "metadata": {},
   "outputs": [
    {
     "name": "stdout",
     "output_type": "stream",
     "text": [
      "calculate for 1 hours...\n"
     ]
    },
    {
     "data": {
      "application/vnd.jupyter.widget-view+json": {
       "model_id": "5f5f992f515047d3a7187c3ad91b3173",
       "version_major": 2,
       "version_minor": 0
      },
      "text/plain": [
       "  0%|          | 0/4 [00:00<?, ?it/s]"
      ]
     },
     "metadata": {},
     "output_type": "display_data"
    },
    {
     "name": "stdout",
     "output_type": "stream",
     "text": [
      "calculate for 2 hours...\n"
     ]
    },
    {
     "data": {
      "application/vnd.jupyter.widget-view+json": {
       "model_id": "94a123fea7584ec2860c9c0f65bbac1f",
       "version_major": 2,
       "version_minor": 0
      },
      "text/plain": [
       "  0%|          | 0/4 [00:00<?, ?it/s]"
      ]
     },
     "metadata": {},
     "output_type": "display_data"
    },
    {
     "name": "stdout",
     "output_type": "stream",
     "text": [
      "calculate for 4 hours...\n"
     ]
    },
    {
     "data": {
      "application/vnd.jupyter.widget-view+json": {
       "model_id": "1ff822e0147d44fd829e98d01c56d1bc",
       "version_major": 2,
       "version_minor": 0
      },
      "text/plain": [
       "  0%|          | 0/4 [00:00<?, ?it/s]"
      ]
     },
     "metadata": {},
     "output_type": "display_data"
    },
    {
     "name": "stdout",
     "output_type": "stream",
     "text": [
      "calculate for 6 hours...\n"
     ]
    },
    {
     "data": {
      "application/vnd.jupyter.widget-view+json": {
       "model_id": "434e03f124ec48a6b7c480143155b226",
       "version_major": 2,
       "version_minor": 0
      },
      "text/plain": [
       "  0%|          | 0/4 [00:00<?, ?it/s]"
      ]
     },
     "metadata": {},
     "output_type": "display_data"
    },
    {
     "name": "stdout",
     "output_type": "stream",
     "text": [
      "calculate for 12 hours...\n"
     ]
    },
    {
     "data": {
      "application/vnd.jupyter.widget-view+json": {
       "model_id": "d7d472fdb6184460bd1c442a88b08097",
       "version_major": 2,
       "version_minor": 0
      },
      "text/plain": [
       "  0%|          | 0/4 [00:00<?, ?it/s]"
      ]
     },
     "metadata": {},
     "output_type": "display_data"
    },
    {
     "name": "stdout",
     "output_type": "stream",
     "text": [
      "calculate for 24 hours...\n"
     ]
    },
    {
     "data": {
      "application/vnd.jupyter.widget-view+json": {
       "model_id": "9a58027934fe4a2abc134de96562725c",
       "version_major": 2,
       "version_minor": 0
      },
      "text/plain": [
       "  0%|          | 0/4 [00:00<?, ?it/s]"
      ]
     },
     "metadata": {},
     "output_type": "display_data"
    },
    {
     "name": "stdout",
     "output_type": "stream",
     "text": [
      "calculate for 48 hours...\n"
     ]
    },
    {
     "data": {
      "application/vnd.jupyter.widget-view+json": {
       "model_id": "946d3c9a630b4557ada85a2da0b9f6d3",
       "version_major": 2,
       "version_minor": 0
      },
      "text/plain": [
       "  0%|          | 0/4 [00:00<?, ?it/s]"
      ]
     },
     "metadata": {},
     "output_type": "display_data"
    },
    {
     "name": "stdout",
     "output_type": "stream",
     "text": [
      "calculate for 120 hours...\n"
     ]
    },
    {
     "data": {
      "application/vnd.jupyter.widget-view+json": {
       "model_id": "ef876bc3d84c4ed79021a0d06163d979",
       "version_major": 2,
       "version_minor": 0
      },
      "text/plain": [
       "  0%|          | 0/4 [00:00<?, ?it/s]"
      ]
     },
     "metadata": {},
     "output_type": "display_data"
    },
    {
     "name": "stdout",
     "output_type": "stream",
     "text": [
      "calculate for 168 hours...\n"
     ]
    },
    {
     "data": {
      "application/vnd.jupyter.widget-view+json": {
       "model_id": "161a09a3e19c444b89cd3f4aa9aa8ac3",
       "version_major": 2,
       "version_minor": 0
      },
      "text/plain": [
       "  0%|          | 0/4 [00:00<?, ?it/s]"
      ]
     },
     "metadata": {},
     "output_type": "display_data"
    },
    {
     "data": {
      "text/html": [
       "<div>\n",
       "<style scoped>\n",
       "    .dataframe tbody tr th:only-of-type {\n",
       "        vertical-align: middle;\n",
       "    }\n",
       "\n",
       "    .dataframe tbody tr th {\n",
       "        vertical-align: top;\n",
       "    }\n",
       "\n",
       "    .dataframe thead th {\n",
       "        text-align: right;\n",
       "    }\n",
       "</style>\n",
       "<table border=\"1\" class=\"dataframe\">\n",
       "  <thead>\n",
       "    <tr style=\"text-align: right;\">\n",
       "      <th></th>\n",
       "      <th>hours</th>\n",
       "      <th>n</th>\n",
       "      <th>p</th>\n",
       "      <th>conf</th>\n",
       "      <th>max_k</th>\n",
       "    </tr>\n",
       "  </thead>\n",
       "  <tbody>\n",
       "    <tr>\n",
       "      <th>0</th>\n",
       "      <td>1</td>\n",
       "      <td>300.0</td>\n",
       "      <td>0.1000</td>\n",
       "      <td>1.000000e-03</td>\n",
       "      <td>14.0</td>\n",
       "    </tr>\n",
       "    <tr>\n",
       "      <th>1</th>\n",
       "      <td>1</td>\n",
       "      <td>300.0</td>\n",
       "      <td>0.1000</td>\n",
       "      <td>1.000000e-06</td>\n",
       "      <td>8.0</td>\n",
       "    </tr>\n",
       "    <tr>\n",
       "      <th>2</th>\n",
       "      <td>1</td>\n",
       "      <td>300.0</td>\n",
       "      <td>0.1000</td>\n",
       "      <td>1.000000e-09</td>\n",
       "      <td>3.0</td>\n",
       "    </tr>\n",
       "    <tr>\n",
       "      <th>3</th>\n",
       "      <td>1</td>\n",
       "      <td>300.0</td>\n",
       "      <td>0.0100</td>\n",
       "      <td>1.000000e-03</td>\n",
       "      <td>NaN</td>\n",
       "    </tr>\n",
       "    <tr>\n",
       "      <th>4</th>\n",
       "      <td>1</td>\n",
       "      <td>300.0</td>\n",
       "      <td>0.0100</td>\n",
       "      <td>1.000000e-06</td>\n",
       "      <td>NaN</td>\n",
       "    </tr>\n",
       "    <tr>\n",
       "      <th>...</th>\n",
       "      <td>...</td>\n",
       "      <td>...</td>\n",
       "      <td>...</td>\n",
       "      <td>...</td>\n",
       "      <td>...</td>\n",
       "    </tr>\n",
       "    <tr>\n",
       "      <th>103</th>\n",
       "      <td>168</td>\n",
       "      <td>50400.0</td>\n",
       "      <td>0.0010</td>\n",
       "      <td>1.000000e-06</td>\n",
       "      <td>20.0</td>\n",
       "    </tr>\n",
       "    <tr>\n",
       "      <th>104</th>\n",
       "      <td>168</td>\n",
       "      <td>50400.0</td>\n",
       "      <td>0.0010</td>\n",
       "      <td>1.000000e-09</td>\n",
       "      <td>13.0</td>\n",
       "    </tr>\n",
       "    <tr>\n",
       "      <th>105</th>\n",
       "      <td>168</td>\n",
       "      <td>50400.0</td>\n",
       "      <td>0.0001</td>\n",
       "      <td>1.000000e-03</td>\n",
       "      <td>NaN</td>\n",
       "    </tr>\n",
       "    <tr>\n",
       "      <th>106</th>\n",
       "      <td>168</td>\n",
       "      <td>50400.0</td>\n",
       "      <td>0.0001</td>\n",
       "      <td>1.000000e-06</td>\n",
       "      <td>NaN</td>\n",
       "    </tr>\n",
       "    <tr>\n",
       "      <th>107</th>\n",
       "      <td>168</td>\n",
       "      <td>50400.0</td>\n",
       "      <td>0.0001</td>\n",
       "      <td>1.000000e-09</td>\n",
       "      <td>NaN</td>\n",
       "    </tr>\n",
       "  </tbody>\n",
       "</table>\n",
       "<p>108 rows × 5 columns</p>\n",
       "</div>"
      ],
      "text/plain": [
       "     hours        n       p          conf  max_k\n",
       "0        1    300.0  0.1000  1.000000e-03   14.0\n",
       "1        1    300.0  0.1000  1.000000e-06    8.0\n",
       "2        1    300.0  0.1000  1.000000e-09    3.0\n",
       "3        1    300.0  0.0100  1.000000e-03    NaN\n",
       "4        1    300.0  0.0100  1.000000e-06    NaN\n",
       "..     ...      ...     ...           ...    ...\n",
       "103    168  50400.0  0.0010  1.000000e-06   20.0\n",
       "104    168  50400.0  0.0010  1.000000e-09   13.0\n",
       "105    168  50400.0  0.0001  1.000000e-03    NaN\n",
       "106    168  50400.0  0.0001  1.000000e-06    NaN\n",
       "107    168  50400.0  0.0001  1.000000e-09    NaN\n",
       "\n",
       "[108 rows x 5 columns]"
      ]
     },
     "execution_count": 7,
     "metadata": {},
     "output_type": "execute_result"
    }
   ],
   "source": [
    "results = []\n",
    "\n",
    "for i, n in enumerate(n_slots_range):\n",
    "    print(f'calculate for {hour_range[i]} hours...')\n",
    "    for p in tqdm(p_non_censoring_probability):\n",
    "        for conf in confidence:\n",
    "            # max_k = get_max_k(n, p, conf)\n",
    "            max_k = get_max_k_high_precission(n, p, conf)\n",
    "\n",
    "            results.append((hour_range[i], n, p, conf, max_k))\n",
    "            \n",
    "results_df = pd.DataFrame(results, columns = ['hours', 'n', 'p', 'conf', 'max_k'])\n",
    "results_df"
   ]
  },
  {
   "cell_type": "code",
   "execution_count": 9,
   "id": "fd6348a9-5390-43f7-839c-f9e74294634d",
   "metadata": {},
   "outputs": [
    {
     "data": {
      "text/html": [
       "<div>\n",
       "<style scoped>\n",
       "    .dataframe tbody tr th:only-of-type {\n",
       "        vertical-align: middle;\n",
       "    }\n",
       "\n",
       "    .dataframe tbody tr th {\n",
       "        vertical-align: top;\n",
       "    }\n",
       "\n",
       "    .dataframe thead th {\n",
       "        text-align: right;\n",
       "    }\n",
       "</style>\n",
       "<table border=\"1\" class=\"dataframe\">\n",
       "  <thead>\n",
       "    <tr style=\"text-align: right;\">\n",
       "      <th></th>\n",
       "      <th>hours</th>\n",
       "      <th>n</th>\n",
       "      <th>p</th>\n",
       "      <th>conf</th>\n",
       "      <th>max_k</th>\n",
       "    </tr>\n",
       "  </thead>\n",
       "  <tbody>\n",
       "    <tr>\n",
       "      <th>72</th>\n",
       "      <td>48</td>\n",
       "      <td>14400.0</td>\n",
       "      <td>0.1000</td>\n",
       "      <td>1.000000e-03</td>\n",
       "      <td>1329.0</td>\n",
       "    </tr>\n",
       "    <tr>\n",
       "      <th>73</th>\n",
       "      <td>48</td>\n",
       "      <td>14400.0</td>\n",
       "      <td>0.1000</td>\n",
       "      <td>1.000000e-06</td>\n",
       "      <td>1271.0</td>\n",
       "    </tr>\n",
       "    <tr>\n",
       "      <th>74</th>\n",
       "      <td>48</td>\n",
       "      <td>14400.0</td>\n",
       "      <td>0.1000</td>\n",
       "      <td>1.000000e-09</td>\n",
       "      <td>1228.0</td>\n",
       "    </tr>\n",
       "    <tr>\n",
       "      <th>75</th>\n",
       "      <td>48</td>\n",
       "      <td>14400.0</td>\n",
       "      <td>0.0100</td>\n",
       "      <td>1.000000e-03</td>\n",
       "      <td>108.0</td>\n",
       "    </tr>\n",
       "    <tr>\n",
       "      <th>76</th>\n",
       "      <td>48</td>\n",
       "      <td>14400.0</td>\n",
       "      <td>0.0100</td>\n",
       "      <td>1.000000e-06</td>\n",
       "      <td>90.0</td>\n",
       "    </tr>\n",
       "    <tr>\n",
       "      <th>77</th>\n",
       "      <td>48</td>\n",
       "      <td>14400.0</td>\n",
       "      <td>0.0100</td>\n",
       "      <td>1.000000e-09</td>\n",
       "      <td>77.0</td>\n",
       "    </tr>\n",
       "    <tr>\n",
       "      <th>78</th>\n",
       "      <td>48</td>\n",
       "      <td>14400.0</td>\n",
       "      <td>0.0010</td>\n",
       "      <td>1.000000e-03</td>\n",
       "      <td>3.0</td>\n",
       "    </tr>\n",
       "    <tr>\n",
       "      <th>79</th>\n",
       "      <td>48</td>\n",
       "      <td>14400.0</td>\n",
       "      <td>0.0010</td>\n",
       "      <td>1.000000e-06</td>\n",
       "      <td>0.0</td>\n",
       "    </tr>\n",
       "    <tr>\n",
       "      <th>80</th>\n",
       "      <td>48</td>\n",
       "      <td>14400.0</td>\n",
       "      <td>0.0010</td>\n",
       "      <td>1.000000e-09</td>\n",
       "      <td>NaN</td>\n",
       "    </tr>\n",
       "    <tr>\n",
       "      <th>81</th>\n",
       "      <td>48</td>\n",
       "      <td>14400.0</td>\n",
       "      <td>0.0001</td>\n",
       "      <td>1.000000e-03</td>\n",
       "      <td>NaN</td>\n",
       "    </tr>\n",
       "    <tr>\n",
       "      <th>82</th>\n",
       "      <td>48</td>\n",
       "      <td>14400.0</td>\n",
       "      <td>0.0001</td>\n",
       "      <td>1.000000e-06</td>\n",
       "      <td>NaN</td>\n",
       "    </tr>\n",
       "    <tr>\n",
       "      <th>83</th>\n",
       "      <td>48</td>\n",
       "      <td>14400.0</td>\n",
       "      <td>0.0001</td>\n",
       "      <td>1.000000e-09</td>\n",
       "      <td>NaN</td>\n",
       "    </tr>\n",
       "  </tbody>\n",
       "</table>\n",
       "</div>"
      ],
      "text/plain": [
       "    hours        n       p          conf   max_k\n",
       "72     48  14400.0  0.1000  1.000000e-03  1329.0\n",
       "73     48  14400.0  0.1000  1.000000e-06  1271.0\n",
       "74     48  14400.0  0.1000  1.000000e-09  1228.0\n",
       "75     48  14400.0  0.0100  1.000000e-03   108.0\n",
       "76     48  14400.0  0.0100  1.000000e-06    90.0\n",
       "77     48  14400.0  0.0100  1.000000e-09    77.0\n",
       "78     48  14400.0  0.0010  1.000000e-03     3.0\n",
       "79     48  14400.0  0.0010  1.000000e-06     0.0\n",
       "80     48  14400.0  0.0010  1.000000e-09     NaN\n",
       "81     48  14400.0  0.0001  1.000000e-03     NaN\n",
       "82     48  14400.0  0.0001  1.000000e-06     NaN\n",
       "83     48  14400.0  0.0001  1.000000e-09     NaN"
      ]
     },
     "execution_count": 9,
     "metadata": {},
     "output_type": "execute_result"
    }
   ],
   "source": [
    "results_df[results_df.hours == 48]"
   ]
  },
  {
   "cell_type": "code",
   "execution_count": 10,
   "id": "23348c22-1d4c-45b9-bb59-8afa9876184f",
   "metadata": {},
   "outputs": [
    {
     "data": {
      "text/html": [
       "<div>\n",
       "<style scoped>\n",
       "    .dataframe tbody tr th:only-of-type {\n",
       "        vertical-align: middle;\n",
       "    }\n",
       "\n",
       "    .dataframe tbody tr th {\n",
       "        vertical-align: top;\n",
       "    }\n",
       "\n",
       "    .dataframe thead th {\n",
       "        text-align: right;\n",
       "    }\n",
       "</style>\n",
       "<table border=\"1\" class=\"dataframe\">\n",
       "  <thead>\n",
       "    <tr style=\"text-align: right;\">\n",
       "      <th></th>\n",
       "      <th>hours</th>\n",
       "      <th>n</th>\n",
       "      <th>p</th>\n",
       "      <th>conf</th>\n",
       "      <th>max_k</th>\n",
       "    </tr>\n",
       "  </thead>\n",
       "  <tbody>\n",
       "    <tr>\n",
       "      <th>96</th>\n",
       "      <td>168</td>\n",
       "      <td>50400.0</td>\n",
       "      <td>0.1000</td>\n",
       "      <td>1.000000e-03</td>\n",
       "      <td>4832.0</td>\n",
       "    </tr>\n",
       "    <tr>\n",
       "      <th>97</th>\n",
       "      <td>168</td>\n",
       "      <td>50400.0</td>\n",
       "      <td>0.1000</td>\n",
       "      <td>1.000000e-06</td>\n",
       "      <td>4722.0</td>\n",
       "    </tr>\n",
       "    <tr>\n",
       "      <th>98</th>\n",
       "      <td>168</td>\n",
       "      <td>50400.0</td>\n",
       "      <td>0.1000</td>\n",
       "      <td>1.000000e-09</td>\n",
       "      <td>4640.0</td>\n",
       "    </tr>\n",
       "    <tr>\n",
       "      <th>99</th>\n",
       "      <td>168</td>\n",
       "      <td>50400.0</td>\n",
       "      <td>0.0100</td>\n",
       "      <td>1.000000e-03</td>\n",
       "      <td>435.0</td>\n",
       "    </tr>\n",
       "    <tr>\n",
       "      <th>100</th>\n",
       "      <td>168</td>\n",
       "      <td>50400.0</td>\n",
       "      <td>0.0100</td>\n",
       "      <td>1.000000e-06</td>\n",
       "      <td>400.0</td>\n",
       "    </tr>\n",
       "    <tr>\n",
       "      <th>101</th>\n",
       "      <td>168</td>\n",
       "      <td>50400.0</td>\n",
       "      <td>0.0100</td>\n",
       "      <td>1.000000e-09</td>\n",
       "      <td>375.0</td>\n",
       "    </tr>\n",
       "    <tr>\n",
       "      <th>102</th>\n",
       "      <td>168</td>\n",
       "      <td>50400.0</td>\n",
       "      <td>0.0010</td>\n",
       "      <td>1.000000e-03</td>\n",
       "      <td>29.0</td>\n",
       "    </tr>\n",
       "    <tr>\n",
       "      <th>103</th>\n",
       "      <td>168</td>\n",
       "      <td>50400.0</td>\n",
       "      <td>0.0010</td>\n",
       "      <td>1.000000e-06</td>\n",
       "      <td>20.0</td>\n",
       "    </tr>\n",
       "    <tr>\n",
       "      <th>104</th>\n",
       "      <td>168</td>\n",
       "      <td>50400.0</td>\n",
       "      <td>0.0010</td>\n",
       "      <td>1.000000e-09</td>\n",
       "      <td>13.0</td>\n",
       "    </tr>\n",
       "    <tr>\n",
       "      <th>105</th>\n",
       "      <td>168</td>\n",
       "      <td>50400.0</td>\n",
       "      <td>0.0001</td>\n",
       "      <td>1.000000e-03</td>\n",
       "      <td>NaN</td>\n",
       "    </tr>\n",
       "    <tr>\n",
       "      <th>106</th>\n",
       "      <td>168</td>\n",
       "      <td>50400.0</td>\n",
       "      <td>0.0001</td>\n",
       "      <td>1.000000e-06</td>\n",
       "      <td>NaN</td>\n",
       "    </tr>\n",
       "    <tr>\n",
       "      <th>107</th>\n",
       "      <td>168</td>\n",
       "      <td>50400.0</td>\n",
       "      <td>0.0001</td>\n",
       "      <td>1.000000e-09</td>\n",
       "      <td>NaN</td>\n",
       "    </tr>\n",
       "  </tbody>\n",
       "</table>\n",
       "</div>"
      ],
      "text/plain": [
       "     hours        n       p          conf   max_k\n",
       "96     168  50400.0  0.1000  1.000000e-03  4832.0\n",
       "97     168  50400.0  0.1000  1.000000e-06  4722.0\n",
       "98     168  50400.0  0.1000  1.000000e-09  4640.0\n",
       "99     168  50400.0  0.0100  1.000000e-03   435.0\n",
       "100    168  50400.0  0.0100  1.000000e-06   400.0\n",
       "101    168  50400.0  0.0100  1.000000e-09   375.0\n",
       "102    168  50400.0  0.0010  1.000000e-03    29.0\n",
       "103    168  50400.0  0.0010  1.000000e-06    20.0\n",
       "104    168  50400.0  0.0010  1.000000e-09    13.0\n",
       "105    168  50400.0  0.0001  1.000000e-03     NaN\n",
       "106    168  50400.0  0.0001  1.000000e-06     NaN\n",
       "107    168  50400.0  0.0001  1.000000e-09     NaN"
      ]
     },
     "execution_count": 10,
     "metadata": {},
     "output_type": "execute_result"
    }
   ],
   "source": [
    "results_df[results_df.hours == 168]"
   ]
  },
  {
   "cell_type": "code",
   "execution_count": 54,
   "id": "96bc347c-d5fa-406e-852e-094a9522897d",
   "metadata": {},
   "outputs": [],
   "source": [
    "results_df.to_parquet('results_lower_p.parquet')"
   ]
  },
  {
   "cell_type": "code",
   "execution_count": null,
   "id": "981b40b0-9ef4-49bf-81f8-28e01d42330c",
   "metadata": {},
   "outputs": [],
   "source": []
  },
  {
   "cell_type": "code",
   "execution_count": null,
   "id": "b27bcecd-d5dc-4ad0-a76f-d6fa5992b1a5",
   "metadata": {},
   "outputs": [],
   "source": []
  },
  {
   "cell_type": "code",
   "execution_count": null,
   "id": "fbb75067-5abb-4f9c-ae66-9d7b41c5eb7e",
   "metadata": {},
   "outputs": [],
   "source": []
  },
  {
   "cell_type": "markdown",
   "id": "1e1abf07-557f-4ba1-9039-7612ff204b87",
   "metadata": {},
   "source": [
    "# Other"
   ]
  },
  {
   "cell_type": "code",
   "execution_count": null,
   "id": "062e7006-3df7-423b-82ff-9b921aae8a36",
   "metadata": {},
   "outputs": [],
   "source": [
    "# mpmath.fmul(2, mpmath.fmul(2, 2))\n",
    "# mpmath.power(3, 2)\n",
    "# mpmath.fsum([3, 2])"
   ]
  },
  {
   "cell_type": "code",
   "execution_count": null,
   "id": "9d812361-6803-41d0-ba29-fcf2b0e426bc",
   "metadata": {},
   "outputs": [],
   "source": [
    "def get_max_k_high_precission(n, p, conf, MAX_SEARCH_SPACE = 1000):\n",
    "    \n",
    "    probs = []\n",
    "    max_k = None\n",
    "    \n",
    "    for i in range(MAX_SEARCH_SPACE):\n",
    "        prob = mpmath.fmul(combinations(n, i), mpmath.fmul(mpmath.power(p, i), mpmath.power(1-p, n-i)))\n",
    "        \n",
    "        # prob = np.prod([comb(n, i), np.power(p, i), np.power(1-p, n-i)])\n",
    "        # prob = comb(n, i) * np.power(p, i) * np.power(1-p, n-i)\n",
    "        \n",
    "        probs.append(prob)\n",
    "        final_prob = mpmath.fsum(probs)\n",
    "        \n",
    "        if final_prob < conf: # k is still small enough to satisfy condition\n",
    "            max_k = i\n",
    "        else:\n",
    "            break\n",
    "    \n",
    "    return max_k"
   ]
  },
  {
   "cell_type": "code",
   "execution_count": null,
   "id": "9ee88457-d127-48a2-bafd-731f024835ff",
   "metadata": {},
   "outputs": [],
   "source": [
    "def get_max_k(n, p, conf, MAX_SEARCH_SPACE = 1000):\n",
    "    \n",
    "    probs = []\n",
    "    max_k = None\n",
    "    \n",
    "    for i in range(MAX_SEARCH_SPACE):\n",
    "        prob = np.prod([comb(n, i), np.power(p, i), np.power(1-p, n-i)])\n",
    "        probs.append(prob)\n",
    "        final_prob = np.array(probs).sum()\n",
    "        \n",
    "        if final_prob < conf: # k is still small enough to satisfy condition\n",
    "            max_k = i\n",
    "        else:\n",
    "            break\n",
    "    \n",
    "    return max_k"
   ]
  },
  {
   "cell_type": "code",
   "execution_count": 154,
   "id": "8dad04ee-33db-43d3-bb6b-1d69f708cfcc",
   "metadata": {},
   "outputs": [
    {
     "data": {
      "text/plain": [
       "34"
      ]
     },
     "execution_count": 154,
     "metadata": {},
     "output_type": "execute_result"
    }
   ],
   "source": [
    "get_max_k(n=688, p=0.1, conf=1e-06)"
   ]
  },
  {
   "cell_type": "code",
   "execution_count": 155,
   "id": "b6705b68-6182-4138-8f1e-a23721ee94b0",
   "metadata": {},
   "outputs": [
    {
     "data": {
      "text/plain": [
       "34"
      ]
     },
     "execution_count": 155,
     "metadata": {},
     "output_type": "execute_result"
    }
   ],
   "source": [
    "get_max_k_high_precission(n=688, p=0.1, conf=1e-06)"
   ]
  },
  {
   "cell_type": "code",
   "execution_count": null,
   "id": "df7ae090-4b00-4958-91dd-bf15ef5511cf",
   "metadata": {},
   "outputs": [],
   "source": []
  },
  {
   "cell_type": "code",
   "execution_count": null,
   "id": "90adc24d-3821-427c-abde-99cc5d7bd25e",
   "metadata": {},
   "outputs": [],
   "source": []
  },
  {
   "cell_type": "code",
   "execution_count": null,
   "id": "2a2b1ff6-d493-4c08-b58c-fb9e4575d9fb",
   "metadata": {},
   "outputs": [],
   "source": []
  },
  {
   "cell_type": "code",
   "execution_count": null,
   "id": "f2f460b2-9df2-4783-893e-e5c7df0cd3e4",
   "metadata": {},
   "outputs": [],
   "source": []
  }
 ],
 "metadata": {
  "kernelspec": {
   "display_name": "Python 3 (ipykernel)",
   "language": "python",
   "name": "python3"
  },
  "language_info": {
   "codemirror_mode": {
    "name": "ipython",
    "version": 3
   },
   "file_extension": ".py",
   "mimetype": "text/x-python",
   "name": "python",
   "nbconvert_exporter": "python",
   "pygments_lexer": "ipython3",
   "version": "3.9.4"
  }
 },
 "nbformat": 4,
 "nbformat_minor": 5
}
